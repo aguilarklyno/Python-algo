{
 "cells": [
  {
   "attachments": {},
   "cell_type": "markdown",
   "metadata": {},
   "source": [
    "## 002"
   ]
  },
  {
   "cell_type": "code",
   "execution_count": 1,
   "metadata": {},
   "outputs": [
    {
     "ename": "ValueError",
     "evalue": "invalid literal for int() with base 10: ''",
     "output_type": "error",
     "traceback": [
      "\u001b[0;31m---------------------------------------------------------------------------\u001b[0m",
      "\u001b[0;31mValueError\u001b[0m                                Traceback (most recent call last)",
      "Cell \u001b[0;32mIn[1], line 1\u001b[0m\n\u001b[0;32m----> 1\u001b[0m N \u001b[39m=\u001b[39m \u001b[39mint\u001b[39;49m(\u001b[39minput\u001b[39;49m())\n\u001b[1;32m      2\u001b[0m L \u001b[39m=\u001b[39m \u001b[39m\"\u001b[39m\u001b[39m(\u001b[39m\u001b[39m\"\u001b[39m\n\u001b[1;32m      3\u001b[0m R \u001b[39m=\u001b[39m \u001b[39m\"\u001b[39m\u001b[39m)\u001b[39m\u001b[39m\"\u001b[39m\n",
      "\u001b[0;31mValueError\u001b[0m: invalid literal for int() with base 10: ''"
     ]
    }
   ],
   "source": [
    "N = int(input())\n",
    "L = \"(\"\n",
    "R = \")\"\n",
    "\n",
    "P = L + R\n",
    "\n",
    "if N%2 == 0:\n",
    "  for i in range(1, (N//2)+1):\n",
    "    x = P*i\n",
    "    soto = (L*(N//2-i))+x+(R*(N//2-i))\n",
    "    print(soto)\n",
    "    if (N//2-(i+1) > 0):\n",
    "      soto2 = (L*(N//2-(i+1)))+x+(R*(N//2-(i+1))) \n",
    "      soto2L = P + soto2\n",
    "      soto2R = soto2 + P\n",
    "      print(soto2L)\n",
    "      print(soto2R)"
   ]
  },
  {
   "cell_type": "code",
   "execution_count": 11,
   "metadata": {},
   "outputs": [
    {
     "name": "stdout",
     "output_type": "stream",
     "text": [
      "()\n",
      "()()()\n"
     ]
    }
   ],
   "source": [
    "print(P)\n",
    "print(soto)"
   ]
  },
  {
   "cell_type": "code",
   "execution_count": 22,
   "metadata": {},
   "outputs": [
    {
     "name": "stdout",
     "output_type": "stream",
     "text": [
      "((((()))))\n",
      "()(((())))\n",
      "(((())))()\n",
      "(((()())))\n",
      "()((()()))\n",
      "((()()))()\n",
      "((()()()))\n",
      "()(()()())\n",
      "(()()())()\n",
      "(()()()())\n",
      "()()()()()\n"
     ]
    }
   ],
   "source": [
    "N = 10\n",
    "L = \"(\"\n",
    "R = \")\"\n",
    "\n",
    "P = L + R\n",
    "\n",
    "if N%2 == 0:\n",
    "  for i in range(1, (N//2)+1):\n",
    "    x = P*i\n",
    "    soto = (L*(N//2-i))+x+(R*(N//2-i))\n",
    "    print(soto)\n",
    "    if (N//2-(i+1) > 0):\n",
    "      soto2 = (L*(N//2-(i+1)))+x+(R*(N//2-(i+1))) \n",
    "      soto2L = P + soto2\n",
    "      soto2R = soto2 + P\n",
    "      print(soto2L)\n",
    "      print(soto2R)"
   ]
  },
  {
   "attachments": {},
   "cell_type": "markdown",
   "metadata": {},
   "source": [
    "## 007"
   ]
  },
  {
   "cell_type": "code",
   "execution_count": 19,
   "metadata": {},
   "outputs": [
    {
     "name": "stdout",
     "output_type": "stream",
     "text": [
      "112\n",
      "208\n",
      "171\n"
     ]
    }
   ],
   "source": [
    "N = 4\n",
    "A = [4000, 4400, 5000, 3200]\n",
    "Q = 3\n",
    "Bline = [3312, 2992, 4229]\n",
    "\n",
    "\n",
    "for b in Bline:\n",
    "  line=[]\n",
    "  for a in A:\n",
    "    test = b - a\n",
    "    line.append(abs(test))\n",
    "  # print(line)\n",
    "  print(min(line))"
   ]
  },
  {
   "cell_type": "code",
   "execution_count": 20,
   "metadata": {},
   "outputs": [
    {
     "ename": "ValueError",
     "evalue": "invalid literal for int() with base 10: ''",
     "output_type": "error",
     "traceback": [
      "\u001b[0;31m---------------------------------------------------------------------------\u001b[0m",
      "\u001b[0;31mValueError\u001b[0m                                Traceback (most recent call last)",
      "Cell \u001b[0;32mIn[20], line 1\u001b[0m\n\u001b[0;32m----> 1\u001b[0m N \u001b[39m=\u001b[39m \u001b[39mint\u001b[39;49m(\u001b[39minput\u001b[39;49m())\n\u001b[1;32m      2\u001b[0m A \u001b[39m=\u001b[39m \u001b[39mlist\u001b[39m(\u001b[39mmap\u001b[39m(\u001b[39mint\u001b[39m,\u001b[39minput\u001b[39m()))\n\u001b[1;32m      3\u001b[0m Q \u001b[39m=\u001b[39m \u001b[39mint\u001b[39m(\u001b[39minput\u001b[39m())\n",
      "\u001b[0;31mValueError\u001b[0m: invalid literal for int() with base 10: ''"
     ]
    }
   ],
   "source": [
    "N = int(input())\n",
    "A = list(map(int,input()))\n",
    "Q = int(input())\n",
    "Bline = list(map(int,input()))\n",
    "\n",
    "\n",
    "for b in Bline:\n",
    "  line=[]\n",
    "  for a in A:\n",
    "    test = b - a\n",
    "    line.append(abs(test))\n",
    "  print(min(line))"
   ]
  },
  {
   "cell_type": "code",
   "execution_count": null,
   "metadata": {},
   "outputs": [],
   "source": []
  }
 ],
 "metadata": {
  "kernelspec": {
   "display_name": "kaggle_book",
   "language": "python",
   "name": "python3"
  },
  "language_info": {
   "codemirror_mode": {
    "name": "ipython",
    "version": 3
   },
   "file_extension": ".py",
   "mimetype": "text/x-python",
   "name": "python",
   "nbconvert_exporter": "python",
   "pygments_lexer": "ipython3",
   "version": "3.10.8"
  },
  "orig_nbformat": 4,
  "vscode": {
   "interpreter": {
    "hash": "40da969876603e56421b034f73e742287baa456e0039bf3b2998b3668e256b1f"
   }
  }
 },
 "nbformat": 4,
 "nbformat_minor": 2
}
