{
 "cells": [
  {
   "cell_type": "code",
   "execution_count": 5,
   "metadata": {},
   "outputs": [
    {
     "name": "stdout",
     "output_type": "stream",
     "text": [
      "1\n",
      "1\n",
      "1\n",
      "0\n",
      "0\n",
      "1\n",
      "1\n",
      "0\n",
      "0\n",
      "0\n"
     ]
    }
   ],
   "source": [
    "# 入力\n",
    "N = 920\n",
    "\n",
    "# 上の桁から順番に「2 進法に変換した値」を求める\n",
    "for x in [9,8,7,6,5,4,3,2,1,0]:\n",
    "\twari = (2 ** x)\n",
    "\tprint((N // wari) % 2)\n"
   ]
  },
  {
   "cell_type": "code",
   "execution_count": 70,
   "metadata": {},
   "outputs": [
    {
     "name": "stdout",
     "output_type": "stream",
     "text": [
      "[['3', 'fizz'], ['5', 'buzz'], ['15']]\n",
      "15\n"
     ]
    },
    {
     "ename": "AttributeError",
     "evalue": "'str' object has no attribute 'int'",
     "output_type": "error",
     "traceback": [
      "\u001b[0;31m---------------------------------------------------------------------------\u001b[0m",
      "\u001b[0;31mAttributeError\u001b[0m                            Traceback (most recent call last)",
      "Cell \u001b[0;32mIn[70], line 22\u001b[0m\n\u001b[1;32m     19\u001b[0m \u001b[39mprint\u001b[39m(Answer) \u001b[39m#最後の要素\u001b[39;00m\n\u001b[1;32m     21\u001b[0m \u001b[39mfor\u001b[39;00m key \u001b[39min\u001b[39;00m \u001b[39mrange\u001b[39m(\u001b[39mlen\u001b[39m(List)):\n\u001b[0;32m---> 22\u001b[0m   wari \u001b[39m=\u001b[39m List[key][\u001b[39m0\u001b[39;49m]\u001b[39m.\u001b[39;49mint()\n\u001b[1;32m     24\u001b[0m   \u001b[39mprint\u001b[39m(wari)\n\u001b[1;32m     25\u001b[0m   \u001b[39mif\u001b[39;00m Answer \u001b[39m%\u001b[39m wari \u001b[39m==\u001b[39m \u001b[39m0\u001b[39m:\n",
      "\u001b[0;31mAttributeError\u001b[0m: 'str' object has no attribute 'int'"
     ]
    }
   ],
   "source": [
    "Line = \"3:fizz 5:buzz 15\" #入力\n",
    "\n",
    "f = []\n",
    "f = Line.split(\" \") #スペースで分ける\n",
    "f_Len = len(f) #長さを取得\n",
    "\n",
    "List = []\n",
    "\n",
    "for index in range(f_Len):\n",
    "  index = f[index]\n",
    "  index = index.split(\":\")\n",
    "  List.append(index)\n",
    "\n",
    "print(List)\n",
    "\n",
    "test = List[-1]\n",
    "int_test = [int(i) for i in test]\n",
    "Answer = int_test[0]\n",
    "print(Answer) #最後の要素\n",
    "\n",
    "for key in range(len(List)):\n",
    "  wari = List[key][0].int()\n",
    "  \n",
    "  print(wari)\n",
    "  if Answer % wari == 0:\n",
    "    print(List[key][1])"
   ]
  },
  {
   "cell_type": "code",
   "execution_count": null,
   "metadata": {},
   "outputs": [],
   "source": []
  },
  {
   "cell_type": "code",
   "execution_count": null,
   "metadata": {},
   "outputs": [],
   "source": []
  }
 ],
 "metadata": {
  "kernelspec": {
   "display_name": "kaggle_book",
   "language": "python",
   "name": "python3"
  },
  "language_info": {
   "codemirror_mode": {
    "name": "ipython",
    "version": 3
   },
   "file_extension": ".py",
   "mimetype": "text/x-python",
   "name": "python",
   "nbconvert_exporter": "python",
   "pygments_lexer": "ipython3",
   "version": "3.10.8 (main, Nov 24 2022, 08:09:04) [Clang 14.0.6 ]"
  },
  "orig_nbformat": 4,
  "vscode": {
   "interpreter": {
    "hash": "40da969876603e56421b034f73e742287baa456e0039bf3b2998b3668e256b1f"
   }
  }
 },
 "nbformat": 4,
 "nbformat_minor": 2
}
